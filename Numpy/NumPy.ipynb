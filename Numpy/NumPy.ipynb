{
 "cells": [
  {
   "cell_type": "code",
   "execution_count": 2,
   "id": "611f68d5-0b00-4929-a80e-f279f970effa",
   "metadata": {},
   "outputs": [
    {
     "name": "stdout",
     "output_type": "stream",
     "text": [
      "[1 2 3 4 5]\n",
      "<class 'numpy.ndarray'>\n"
     ]
    }
   ],
   "source": [
    "#How to declare numpy array\n",
    "import numpy as np\n",
    "arr = np.array([1,2,3,4,5])\n",
    "print(arr)\n",
    "print(type(arr))"
   ]
  },
  {
   "cell_type": "code",
   "execution_count": 6,
   "id": "eaf0a6a0-e161-4f88-8b6b-a58653c116de",
   "metadata": {},
   "outputs": [
    {
     "name": "stdout",
     "output_type": "stream",
     "text": [
      "[[ 1  2  3  4  5]\n",
      " [ 6  7  8  9 10]]\n",
      "<class 'numpy.ndarray'>\n"
     ]
    }
   ],
   "source": [
    "#How to declare 2d array\n",
    "arr2 = np.array([[1,2,3,4,5],[6,7,8,9,10]])\n",
    "print(arr2)\n",
    "print(type(arr2))"
   ]
  },
  {
   "cell_type": "code",
   "execution_count": 10,
   "id": "b68cf65a-053f-48c6-8556-ad32cd3755d7",
   "metadata": {},
   "outputs": [
    {
     "name": "stdout",
     "output_type": "stream",
     "text": [
      "1\n",
      "5\n",
      "[1 2 3 4 5]\n",
      "[1 2 3 4 5]\n",
      "[1 2 3 4 5]\n"
     ]
    }
   ],
   "source": [
    "arr = np.array([1,2,3,4,5])\n",
    "# slicing of single-dimentional array\n",
    "print(arr[0])   # it prints first element\n",
    "print(arr[-1])   # it prints last element\n",
    "print(arr[0:])  # it prints 0 to last index\n",
    "print(arr[:])   # it prints all the items\n",
    "print(arr[:5])   # it prints first element to 5th"
   ]
  },
  {
   "cell_type": "code",
   "execution_count": 17,
   "id": "22dade04-80ef-43d4-a038-143d28b7c6bf",
   "metadata": {},
   "outputs": [
    {
     "name": "stdout",
     "output_type": "stream",
     "text": [
      "[1 2 3]\n",
      "[[ 1  2  3  4  5]\n",
      " [ 6  7  8  9 10]]\n",
      "[[1 2]\n",
      " [6 7]]\n",
      "[[1 2 3]\n",
      " [6 7 8]]\n",
      "[1 2 3 4 5]\n",
      "[6 7]\n"
     ]
    }
   ],
   "source": [
    "arr2 = np.array([[1,2,3,4,5],[6,7,8,9,10],[11,12,13,14,15]])\n",
    "# slicing of 2d array\n",
    "print(arr2[0,0:3])   # it prints 0 to 2 index of sub-array of 0th index of main array\n",
    "print(arr2[0:2])     # it prints 0 to 1st index of main array\n",
    "print(arr2[0:2,0:2])   # it prints 0th to 1st index of first two sub array\n",
    "print(arr2[0:2,0:3])   # it prints 0th to 2nd index of both sub array, we can not print different indexes\n",
    "print(arr2[0,0:])\n",
    "print(arr2[1,0:2])"
   ]
  },
  {
   "cell_type": "code",
   "execution_count": null,
   "id": "0cebee59-67e4-4c09-b58d-8fb18dc0a1cd",
   "metadata": {},
   "outputs": [],
   "source": []
  }
 ],
 "metadata": {
  "kernelspec": {
   "display_name": "Python 3 (ipykernel)",
   "language": "python",
   "name": "python3"
  },
  "language_info": {
   "codemirror_mode": {
    "name": "ipython",
    "version": 3
   },
   "file_extension": ".py",
   "mimetype": "text/x-python",
   "name": "python",
   "nbconvert_exporter": "python",
   "pygments_lexer": "ipython3",
   "version": "3.11.2"
  }
 },
 "nbformat": 4,
 "nbformat_minor": 5
}
